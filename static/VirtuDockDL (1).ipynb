{
  "cells": [
    {
      "cell_type": "code",
      "source": [
        "!pip install -q condacolab\n",
        "import condacolab; condacolab.install()\n",
        "!conda install -c conda-forge pdbfixer -y -q"
      ],
      "metadata": {
        "id": "cLLCy9RD7zoN"
      },
      "execution_count": null,
      "outputs": []
    },
    {
      "cell_type": "code",
      "execution_count": null,
      "metadata": {
        "id": "V7-fqj__3gA8"
      },
      "outputs": [],
      "source": [
        "!sudo apt-get update -y\n",
        "!sudo apt-get install python3.9 python3.9-distutils python3.9-dev -y"
      ]
    },
    {
      "cell_type": "code",
      "execution_count": null,
      "metadata": {
        "id": "fTecVB153vYh"
      },
      "outputs": [],
      "source": [
        "!wget https://bootstrap.pypa.io/get-pip.py\n",
        "!python3.9 get-pip.py"
      ]
    },
    {
      "cell_type": "code",
      "execution_count": null,
      "metadata": {
        "id": "GSO7dY5FY3Po"
      },
      "outputs": [],
      "source": [
        "!pip install dgl==1.1.3"
      ]
    },
    {
      "cell_type": "code",
      "execution_count": null,
      "metadata": {
        "id": "PxlcTFCoRwsm"
      },
      "outputs": [],
      "source": [
        "!pip install torch==2.2.0 torchvision==0.17.0 torchaudio==2.2.0"
      ]
    },
    {
      "cell_type": "code",
      "execution_count": null,
      "metadata": {
        "id": "r2IqOakz1KDh"
      },
      "outputs": [],
      "source": [
        "!pip install --ignore-installed blinker flask\n",
        "!pip install pandas \"numpy<2.0\" scikit-learn matplotlib rdkit biopython\n",
        "!pip install openmm\n",
        "!pip install torch_geometric -q\n",
        "!pip install pyyaml pydantic\n",
        "!pip install flask\n",
        "!pip install pyngrok\n",
        "!pip install mdtraj"
      ]
    },
    {
      "cell_type": "code",
      "execution_count": 4,
      "metadata": {
        "id": "nMiWodVBPLb1"
      },
      "outputs": [],
      "source": [
        "!git clone https://github.com/klocke3/VirtuDockDL_Colab.git > /dev/null 2>&1"
      ]
    },
    {
      "cell_type": "code",
      "execution_count": 5,
      "metadata": {
        "id": "Qpm93oWtBO6k"
      },
      "outputs": [],
      "source": [
        "import os\n",
        "os.environ['MPLBACKEND'] = 'Agg'"
      ]
    },
    {
      "cell_type": "code",
      "execution_count": null,
      "metadata": {
        "id": "cidF3KDsk-2N"
      },
      "outputs": [],
      "source": [
        "!python /content/VirtuDockDL_Colab/app.py"
      ]
    }
  ],
  "metadata": {
    "accelerator": "GPU",
    "colab": {
      "gpuType": "T4",
      "provenance": []
    },
    "kernelspec": {
      "display_name": "Python 3",
      "name": "python3"
    },
    "language_info": {
      "name": "python"
    }
  },
  "nbformat": 4,
  "nbformat_minor": 0
}